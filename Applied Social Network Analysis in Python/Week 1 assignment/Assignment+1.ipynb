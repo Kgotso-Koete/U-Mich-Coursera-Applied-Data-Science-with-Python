{
 "cells": [
  {
   "cell_type": "markdown",
   "metadata": {},
   "source": [
    "---\n",
    "\n",
    "_You are currently looking at **version 1.1** of this notebook. To download notebooks and datafiles, as well as get help on Jupyter notebooks in the Coursera platform, visit the [Jupyter Notebook FAQ](https://www.coursera.org/learn/python-social-network-analysis/resources/yPcBs) course resource._\n",
    "\n",
    "---"
   ]
  },
  {
   "cell_type": "markdown",
   "metadata": {},
   "source": [
    "# Assignment 1 - Creating and Manipulating Graphs\n",
    "\n",
    "Eight employees at a small company were asked to choose 3 movies that they would most enjoy watching for the upcoming company movie night. These choices are stored in the file `Employee_Movie_Choices.txt`.\n",
    "\n",
    "A second file, `Employee_Relationships.txt`, has data on the relationships between different coworkers. \n",
    "\n",
    "The relationship score has value of `-100` (Enemies) to `+100` (Best Friends). A value of zero means the two employees haven't interacted or are indifferent.\n",
    "\n",
    "Both files are tab delimited."
   ]
  },
  {
   "cell_type": "code",
   "execution_count": 4,
   "metadata": {
    "collapsed": true
   },
   "outputs": [],
   "source": [
    "import networkx as nx\n",
    "import pandas as pd\n",
    "import numpy as np\n",
    "from networkx.algorithms import bipartite\n",
    "\n",
    "\n",
    "# This is the set of employees\n",
    "employees = set(['Pablo',\n",
    "                 'Lee',\n",
    "                 'Georgia',\n",
    "                 'Vincent',\n",
    "                 'Andy',\n",
    "                 'Frida',\n",
    "                 'Joan',\n",
    "                 'Claude'])\n",
    "\n",
    "# This is the set of movies\n",
    "movies = set(['The Shawshank Redemption',\n",
    "              'Forrest Gump',\n",
    "              'The Matrix',\n",
    "              'Anaconda',\n",
    "              'The Social Network',\n",
    "              'The Godfather',\n",
    "              'Monty Python and the Holy Grail',\n",
    "              'Snakes on a Plane',\n",
    "              'Kung Fu Panda',\n",
    "              'The Dark Knight',\n",
    "              'Mean Girls'])\n",
    "\n",
    "\n",
    "# you can use the following function to plot graphs\n",
    "# make sure to comment it out before submitting to the autograder\n",
    "\n",
    "def plot_graph(G, weight_name=None):\n",
    "    '''\n",
    "    G: a networkx G\n",
    "    weight_name: name of the attribute for plotting edge weights (if G is weighted)\n",
    "    '''\n",
    "    #%matplotlib notebook\n",
    "    #import matplotlib.pyplot as plt\n",
    "    \n",
    "    plt.figure()\n",
    "    pos = nx.spring_layout(G)\n",
    "    edges = G.edges()\n",
    "    weights = None\n",
    "    \n",
    "    if weight_name:\n",
    "        weights = [int(G[u][v][weight_name]) for u,v in edges]\n",
    "        labels = nx.get_edge_attributes(G,weight_name)\n",
    "        nx.draw_networkx_edge_labels(G,pos,edge_labels=labels)\n",
    "        nx.draw_networkx(G, pos, edges=edges, width=weights);\n",
    "    else:\n",
    "        nx.draw_networkx(G, pos, edges=edges);\n"
   ]
  },
  {
   "cell_type": "markdown",
   "metadata": {},
   "source": [
    "### Question 1\n",
    "\n",
    "Using NetworkX, load in the bipartite graph from `Employee_Movie_Choices.txt` and return that graph.\n",
    "\n",
    "*This function should return a networkx graph with 19 nodes and 24 edges*"
   ]
  },
  {
   "cell_type": "code",
   "execution_count": 5,
   "metadata": {
    "collapsed": true
   },
   "outputs": [],
   "source": [
    "from networkx.algorithms import bipartite\n",
    "\n",
    "def answer_one():\n",
    "        \n",
    "    # Your Code Here\n",
    "    \n",
    "    # load the text file into a dataframe\n",
    "    df = pd.read_csv('Employee_Movie_Choices.txt', sep='\\t')\n",
    "    \n",
    "    # initialise the graph\n",
    "    G=nx.Graph()\n",
    "    \n",
    "    # add in the nodes for both parts of the bipartitie graph\n",
    "    G.add_nodes_from(df['#Employee'].unique(), bipartite=0)\n",
    "    G.add_nodes_from(df['Movie'].unique(), bipartite=1)\n",
    "    \n",
    "    # add the edges between nodes\n",
    "    edges = list(zip(df['#Employee'], df['Movie']))\n",
    "    G.add_edges_from(edges)\n",
    "    \n",
    "   \n",
    "    #----------------------------PLOT BIPARTITE GRAPH-----------------------------------------------#\n",
    "    '''\n",
    "    # Separate by group\n",
    "    l, r = nx.bipartite.sets(G)\n",
    "    pos = {}\n",
    "\n",
    "    # Update position for node from each group\n",
    "    pos.update((node, (1, index)) for index, node in enumerate(l))\n",
    "    pos.update((node, (2, index)) for index, node in enumerate(r))\n",
    "\n",
    "    nx.draw(G, pos=pos)\n",
    "    plt.show()\n",
    "    '''\n",
    "\n",
    "    return G # Your Answer Here"
   ]
  },
  {
   "cell_type": "code",
   "execution_count": 6,
   "metadata": {},
   "outputs": [
    {
     "name": "stdout",
     "output_type": "stream",
     "text": [
      "All test cases pass!\n"
     ]
    }
   ],
   "source": [
    "def test_answer_one():\n",
    "    \n",
    "    G = answer_one()\n",
    "    \n",
    "    # check if graph is bipartite\n",
    "    assert bipartite.is_bipartite(G) == True\n",
    "    \n",
    "    # check the number of nodes\n",
    "    assert len(G.nodes(data = True)) == 19\n",
    "    \n",
    "    # check the number of edges\n",
    "    assert len(G.edges(data = True)) == 24\n",
    "    \n",
    "    print(\"All test cases pass!\")\n",
    "    \n",
    "test_answer_one()"
   ]
  },
  {
   "cell_type": "markdown",
   "metadata": {},
   "source": [
    "### Question 2\n",
    "\n",
    "Using the graph from the previous question, add nodes attributes named `'type'` where movies have the value `'movie'` and employees have the value `'employee'` and return that graph.\n",
    "\n",
    "*This function should return a networkx graph with node attributes `{'type': 'movie'}` or `{'type': 'employee'}`*"
   ]
  },
  {
   "cell_type": "code",
   "execution_count": 7,
   "metadata": {},
   "outputs": [
    {
     "data": {
      "text/plain": [
       "<networkx.classes.graph.Graph at 0x7f77ef77c4a8>"
      ]
     },
     "execution_count": 7,
     "metadata": {},
     "output_type": "execute_result"
    }
   ],
   "source": [
    "def answer_two():\n",
    "    \n",
    "    # Your Code Here\n",
    "    \n",
    "    # load the graph\n",
    "    G = answer_one()\n",
    "    \n",
    "    # load the text file into a dataframe\n",
    "    df = pd.read_csv('Employee_Movie_Choices.txt', sep='\\t')\n",
    "    \n",
    "    # iterate over all rows in the data frame and add attributes to graph\n",
    "    for idx, row in df.iterrows():\n",
    "        G.node[row['#Employee']]['type'] = 'employee'\n",
    "        G.node[row['Movie']]['type'] = 'movie'\n",
    "    \n",
    "    return G # Your Answer Here\n",
    "\n",
    "answer_two()"
   ]
  },
  {
   "cell_type": "markdown",
   "metadata": {
    "collapsed": true
   },
   "source": [
    "### Question 3\n",
    "\n",
    "Find a weighted projection of the graph from `answer_two` which tells us how many movies different pairs of employees have in common.\n",
    "\n",
    "*This function should return a weighted projected graph.*"
   ]
  },
  {
   "cell_type": "code",
   "execution_count": 8,
   "metadata": {},
   "outputs": [
    {
     "data": {
      "text/plain": [
       "<networkx.classes.graph.Graph at 0x7f77c4fd7f60>"
      ]
     },
     "execution_count": 8,
     "metadata": {},
     "output_type": "execute_result"
    }
   ],
   "source": [
    "def answer_three():\n",
    "        \n",
    "    # Your Code Here\n",
    "    \n",
    "    # load graph\n",
    "    G = answer_two()\n",
    "    \n",
    "    # load the text file into a dataframe\n",
    "    df = pd.read_csv('Employee_Movie_Choices.txt', sep='\\t')\n",
    "    \n",
    "    # get set of movies\n",
    "    X = set(df['#Employee'].unique())\n",
    "    \n",
    "    P = bipartite.weighted_projected_graph(G, X)\n",
    "    \n",
    "    return P # Your Answer Here\n",
    "\n",
    "answer_three()"
   ]
  },
  {
   "cell_type": "markdown",
   "metadata": {
    "collapsed": true
   },
   "source": [
    "### Question 4\n",
    "\n",
    "Suppose you'd like to find out if people that have a high relationship score also like the same types of movies.\n",
    "\n",
    "Find the Pearson correlation ( using `DataFrame.corr()` ) between employee relationship scores and the number of movies they have in common. If two employees have no movies in common it should be treated as a 0, not a missing value, and should be included in the correlation calculation.\n",
    "\n",
    "*This function should return a float.*"
   ]
  },
  {
   "cell_type": "code",
   "execution_count": 44,
   "metadata": {},
   "outputs": [
    {
     "data": {
      "text/plain": [
       "0.7883962221733477"
      ]
     },
     "execution_count": 44,
     "metadata": {},
     "output_type": "execute_result"
    }
   ],
   "source": [
    "def answer_four():\n",
    "        \n",
    "    # Your Code Here\n",
    "    \n",
    "    # load graph\n",
    "    G = answer_three()\n",
    "    \n",
    "    # extract employee edge weights from graph into dataframe\n",
    "    employee_weights = nx.to_pandas_dataframe(G)\n",
    "    \n",
    "    # load the text file into a dataframe\n",
    "    df = pd.read_csv('Employee_Relationships.txt', sep='\\t', header = None)\n",
    "    \n",
    "    # add column names to the dataframe\n",
    "    df.columns = ['Employee_1', 'Employee_2','Frienship_score']\n",
    "    \n",
    "    # add dummy column for movie weight for movies in common\n",
    "    df['Movie_score'] = 0\n",
    "    \n",
    "    # add employee weights to the friendship score dataframe\n",
    "    df['Movie_score'] =  employee_weights.lookup(df['Employee_1'], df['Employee_2'])\n",
    "    \n",
    "    # calcualte the Pearson correlation\n",
    "    Pearson_corr = df['Frienship_score'].corr(df['Movie_score'])\n",
    "            \n",
    "    return Pearson_corr  # Your Answer Here\n",
    "\n",
    "answer_four()"
   ]
  }
 ],
 "metadata": {
  "coursera": {
   "course_slug": "python-social-network-analysis",
   "graded_item_id": "YNa9b",
   "launcher_item_id": "hvNc1",
   "part_id": "VbyiB"
  },
  "kernelspec": {
   "display_name": "Python 3",
   "language": "python",
   "name": "python3"
  },
  "language_info": {
   "codemirror_mode": {
    "name": "ipython",
    "version": 3
   },
   "file_extension": ".py",
   "mimetype": "text/x-python",
   "name": "python",
   "nbconvert_exporter": "python",
   "pygments_lexer": "ipython3",
   "version": "3.6.0"
  }
 },
 "nbformat": 4,
 "nbformat_minor": 2
}
